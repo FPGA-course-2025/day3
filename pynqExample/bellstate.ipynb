{
 "cells": [
  {
   "cell_type": "code",
   "execution_count": 11,
   "id": "63f77549-8d3a-4149-af36-05f29fee19e9",
   "metadata": {},
   "outputs": [
    {
     "name": "stdout",
     "output_type": "stream",
     "text": [
      "Defaulting to user installation because normal site-packages is not writeable\n",
      "Requirement already satisfied: pybondmachine in ./.local/lib/python3.10/site-packages (1.1.73)\n",
      "Collecting pybondmachine\n",
      "  Downloading pybondmachine-1.1.74-py3-none-any.whl.metadata (4.3 kB)\n",
      "Downloading pybondmachine-1.1.74-py3-none-any.whl (13 kB)\n",
      "Installing collected packages: pybondmachine\n",
      "  Attempting uninstall: pybondmachine\n",
      "    Found existing installation: pybondmachine 1.1.73\n",
      "    Uninstalling pybondmachine-1.1.73:\n",
      "      Successfully uninstalled pybondmachine-1.1.73\n",
      "Successfully installed pybondmachine-1.1.74\n",
      "\n"
     ]
    }
   ],
   "source": [
    "# Upgrade the library\n",
    "!conda run -n fpga-env pip install pybondmachine --upgrade"
   ]
  },
  {
   "cell_type": "code",
   "execution_count": 1,
   "id": "382a7fed-0c98-4207-8477-39604473fc15",
   "metadata": {},
   "outputs": [],
   "source": [
    "### IF THE PREVIOUS COMMAND DOES NOT RETURN Requirement already satisfied, RELOAD THE KERNEL !!!"
   ]
  },
  {
   "cell_type": "code",
   "execution_count": 2,
   "id": "2e2bbb0c-a1e0-4676-bdbd-aa266c857457",
   "metadata": {},
   "outputs": [],
   "source": [
    "import os\n",
    "import numpy as np\n",
    "\n",
    "# Export the env variabes to access the alveo card\n",
    "\n",
    "os.environ[\"PATH\"]=os.environ[\"PATH\"]+\":\"+os.environ[\"BONDMACHINE_DIR\"]\n",
    "os.environ['XILINX_HLS'] = '/tools/Xilinx/Vitis_HLS/2023.2'\n",
    "os.environ['XILINX_VIVADO'] = '/tools/Xilinx/Vivado/2023.2'\n",
    "os.environ['XILINX_VITIS'] = '/tools/Xilinx/Vitis/2023.2'\n",
    "os.environ['PATH']=os.environ[\"PATH\"]+\":\"+os.environ['XILINX_HLS']+\"/bin:\"+os.environ['XILINX_VIVADO']+\"/bin:\"+os.environ['XILINX_VITIS']+\"/bin:\"\n",
    "os.environ['TF_CPP_MIN_LOG_LEVEL'] = '3'\n",
    "os.environ['XILINX_XRT'] = '/opt/xilinx/xrt'\n",
    "os.environ['LD_LIBRARY_PATH'] = '/opt/xilinx/xrt/lib'\n",
    "\n",
    "notebook_directory = os.path.abspath(os.path.dirname((os.environ[\"JPY_SESSION_NAME\"])))\n",
    "os.chdir(notebook_directory)"
   ]
  },
  {
   "cell_type": "code",
   "execution_count": 3,
   "id": "ace1fb5e-1dba-4747-a521-0f20f0e7f778",
   "metadata": {},
   "outputs": [],
   "source": [
    "# generate sample data just\n",
    "# by default the firmware access a batch of 16 elements of lenght 8\n",
    "n_samples = 16\n",
    "length    = 8\n",
    "np.random.seed(42)\n",
    "X = np.zeros((n_samples, length), dtype=np.float32)\n",
    "random_positions = np.random.randint(1, size=n_samples)\n",
    "X[np.arange(n_samples), random_positions] = 1.0\n",
    "np.save(\"features.npy\", X)"
   ]
  },
  {
   "cell_type": "code",
   "execution_count": 4,
   "id": "1a5d4113-ad1c-4673-993d-5895520e343e",
   "metadata": {},
   "outputs": [
    {
     "name": "stderr",
     "output_type": "stream",
     "text": [
      "/opt/conda/envs/fpga-env/lib/python3.10/site-packages/pydantic/_internal/_config.py:373: UserWarning: Valid config keys have changed in V2:\n",
      "* 'underscore_attrs_are_private' has been removed\n",
      "  warnings.warn(message, UserWarning)\n",
      "/opt/conda/envs/fpga-env/lib/python3.10/site-packages/pydantic/_internal/_config.py:373: UserWarning: Valid config keys have changed in V2:\n",
      "* 'underscore_attrs_are_private' has been removed\n",
      "  warnings.warn(message, UserWarning)\n"
     ]
    }
   ],
   "source": [
    "from pybondmachine.overlay.predictor import Predictor\n",
    "import numpy as np\n",
    "model_specs = {\n",
    "    \"data_type\": \"float32\",\n",
    "    \"register_size\": 32,\n",
    "    \"batch_size\": 16,\n",
    "    \"flavor\": \"axist\",\n",
    "    \"n_input\": 8,\n",
    "    \"n_output\": 8,\n",
    "    \"benchcore\": False,\n",
    "    \"board\": \"alveo\"\n",
    "}\n",
    "firmware_name = \"bellstate.xclbin\"\n",
    "firmware_path = \"\""
   ]
  },
  {
   "cell_type": "code",
   "execution_count": 5,
   "id": "b9045be6-4b4b-4144-b70c-0b751c53afb0",
   "metadata": {},
   "outputs": [],
   "source": [
    "X_test = np.load(\"features.npy\")\n",
    "y_test = np.load(\"features.npy\")"
   ]
  },
  {
   "cell_type": "code",
   "execution_count": 6,
   "id": "c3ad94ac-e0c3-43fd-bc8e-928c5622f602",
   "metadata": {},
   "outputs": [],
   "source": [
    "predictor = Predictor(firmware_name, firmware_path, model_specs)"
   ]
  },
  {
   "cell_type": "code",
   "execution_count": 7,
   "id": "592bf291-3ba5-4116-b750-c62fd8ba568a",
   "metadata": {},
   "outputs": [
    {
     "data": {
      "application/javascript": [
       "\n",
       "try {\n",
       "require(['notebook/js/codecell'], function(codecell) {\n",
       "  codecell.CodeCell.options_default.highlight_modes[\n",
       "      'magic_text/x-csrc'] = {'reg':[/^%%microblaze/]};\n",
       "  Jupyter.notebook.events.one('kernel_ready.Kernel', function(){\n",
       "      Jupyter.notebook.get_cells().map(function(cell){\n",
       "          if (cell.cell_type == 'code'){ cell.auto_highlight(); } }) ;\n",
       "  });\n",
       "});\n",
       "} catch (e) {};\n"
      ]
     },
     "metadata": {},
     "output_type": "display_data"
    },
    {
     "data": {
      "application/javascript": [
       "\n",
       "try {\n",
       "require(['notebook/js/codecell'], function(codecell) {\n",
       "  codecell.CodeCell.options_default.highlight_modes[\n",
       "      'magic_text/x-csrc'] = {'reg':[/^%%pybind11/]};\n",
       "  Jupyter.notebook.events.one('kernel_ready.Kernel', function(){\n",
       "      Jupyter.notebook.get_cells().map(function(cell){\n",
       "          if (cell.cell_type == 'code'){ cell.auto_highlight(); } }) ;\n",
       "  });\n",
       "});\n",
       "} catch (e) {};\n"
      ]
     },
     "metadata": {},
     "output_type": "display_data"
    },
    {
     "data": {
      "text/plain": [
       "(True, 'Overlay loaded successfully')"
      ]
     },
     "execution_count": 7,
     "metadata": {},
     "output_type": "execute_result"
    }
   ],
   "source": [
    "# program the ALVEO CARD\n",
    "predictor.load_overlay()"
   ]
  },
  {
   "cell_type": "code",
   "execution_count": 8,
   "id": "1aea733f-e410-4543-aeca-c18c0a5fd706",
   "metadata": {},
   "outputs": [
    {
     "name": "stdout",
     "output_type": "stream",
     "text": [
      "Prepared 1 batches (fill=False, last_batch_size=0)\n"
     ]
    },
    {
     "data": {
      "text/plain": [
       "(True, 'Data prepared successfully')"
      ]
     },
     "execution_count": 8,
     "metadata": {},
     "output_type": "execute_result"
    }
   ],
   "source": [
    "# prepare the data to be sent to the alveo card\n",
    "predictor.prepare_data(X_test, y_test)\n"
   ]
  },
  {
   "cell_type": "code",
   "execution_count": 9,
   "id": "20cc6ecb-050d-49cb-80fc-ff5df1c60b2c",
   "metadata": {},
   "outputs": [
    {
     "name": "stdout",
     "output_type": "stream",
     "text": [
      "Time taken to predict a batch of size  16  is  0.2665519714355469  ms\n",
      "Time taken to predict a single sample is  0.01665949821472168  ms\n",
      "Standard deviation of the time taken to predict a batch of size  16  is  0.0  ms\n",
      "Standard deviation of the time taken to predict a single sample is  0.0  ms\n"
     ]
    }
   ],
   "source": [
    "# run the computation\n",
    "status, result = predictor.predict(debug=True)"
   ]
  },
  {
   "cell_type": "code",
   "execution_count": 13,
   "id": "af1b4ddd-097c-41d4-bd9c-3c55879d3cd1",
   "metadata": {},
   "outputs": [
    {
     "name": "stdout",
     "output_type": "stream",
     "text": [
      "[0.7071067690849304, 0.0, 0.0, 0.0, 0.0, 0.0, 0.7071067690849304, 0.0]\n"
     ]
    }
   ],
   "source": [
    "print(result['all_probs'][0])"
   ]
  },
  {
   "cell_type": "code",
   "execution_count": null,
   "id": "949fbfb8-540b-48f5-8893-b316872dc8fb",
   "metadata": {},
   "outputs": [],
   "source": []
  }
 ],
 "metadata": {
  "kernelspec": {
   "display_name": "Python 3.10 (fpga-ml)",
   "language": "python",
   "name": "fpga-ml"
  },
  "language_info": {
   "codemirror_mode": {
    "name": "ipython",
    "version": 3
   },
   "file_extension": ".py",
   "mimetype": "text/x-python",
   "name": "python",
   "nbconvert_exporter": "python",
   "pygments_lexer": "ipython3",
   "version": "3.10.16"
  }
 },
 "nbformat": 4,
 "nbformat_minor": 5
}
