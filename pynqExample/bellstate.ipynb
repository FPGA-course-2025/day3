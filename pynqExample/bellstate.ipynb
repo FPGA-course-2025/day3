{
 "cells": [
  {
   "cell_type": "code",
   "execution_count": null,
   "id": "63f77549-8d3a-4149-af36-05f29fee19e9",
   "metadata": {},
   "outputs": [],
   "source": [
    "# Upgrade the library\n",
    "!conda run -n fpga-env pip install pybondmachine --upgrade"
   ]
  },
  {
   "cell_type": "code",
   "execution_count": null,
   "id": "382a7fed-0c98-4207-8477-39604473fc15",
   "metadata": {},
   "outputs": [],
   "source": [
    "### IF THE PREVIOUS COMMAND DOES NOT RETURN Requirement already satisfied, RELOAD THE KERNEL !!!"
   ]
  },
  {
   "cell_type": "code",
   "execution_count": null,
   "id": "2e2bbb0c-a1e0-4676-bdbd-aa266c857457",
   "metadata": {},
   "outputs": [],
   "source": [
    "import os\n",
    "import numpy as np\n",
    "\n",
    "# Export the env variabes to access the alveo card\n",
    "\n",
    "os.environ[\"PATH\"]=os.environ[\"PATH\"]+\":\"+os.environ[\"BONDMACHINE_DIR\"]\n",
    "os.environ['XILINX_HLS'] = '/tools/Xilinx/Vitis_HLS/2023.2'\n",
    "os.environ['XILINX_VIVADO'] = '/tools/Xilinx/Vivado/2023.2'\n",
    "os.environ['XILINX_VITIS'] = '/tools/Xilinx/Vitis/2023.2'\n",
    "os.environ['PATH']=os.environ[\"PATH\"]+\":\"+os.environ['XILINX_HLS']+\"/bin:\"+os.environ['XILINX_VIVADO']+\"/bin:\"+os.environ['XILINX_VITIS']+\"/bin:\"\n",
    "os.environ['TF_CPP_MIN_LOG_LEVEL'] = '3'\n",
    "os.environ['XILINX_XRT'] = '/opt/xilinx/xrt'\n",
    "os.environ['LD_LIBRARY_PATH'] = '/opt/xilinx/xrt/lib'\n",
    "\n",
    "notebook_directory = os.path.abspath(os.path.dirname((os.environ[\"JPY_SESSION_NAME\"])))\n",
    "os.chdir(notebook_directory)"
   ]
  },
  {
   "cell_type": "code",
   "execution_count": null,
   "id": "6e4c0ff6",
   "metadata": {},
   "outputs": [],
   "source": [
    "# Display a local  png image\n",
    "from IPython.display import Image, display\n",
    "display(Image(filename='bellstate.png'))"
   ]
  },
  {
   "cell_type": "code",
   "execution_count": null,
   "id": "ace1fb5e-1dba-4747-a521-0f20f0e7f778",
   "metadata": {},
   "outputs": [],
   "source": [
    "# generate sample data just\n",
    "# by default the firmware access a batch of 16 elements of lenght 8\n",
    "n_samples = 16\n",
    "length    = 8\n",
    "np.random.seed(42)\n",
    "X = np.zeros((n_samples, length), dtype=np.float32)\n",
    "random_positions = np.random.randint(1, size=n_samples)\n",
    "X[np.arange(n_samples), random_positions] = 1.0\n",
    "np.save(\"features.npy\", X)"
   ]
  },
  {
   "cell_type": "code",
   "execution_count": null,
   "id": "1a5d4113-ad1c-4673-993d-5895520e343e",
   "metadata": {},
   "outputs": [],
   "source": [
    "from pybondmachine.overlay.predictor import Predictor\n",
    "import numpy as np\n",
    "model_specs = {\n",
    "    \"data_type\": \"float32\",\n",
    "    \"register_size\": 32,\n",
    "    \"batch_size\": 16,\n",
    "    \"flavor\": \"axist\",\n",
    "    \"n_input\": 8,\n",
    "    \"n_output\": 8,\n",
    "    \"benchcore\": False,\n",
    "    \"board\": \"alveo\"\n",
    "}\n",
    "firmware_name = \"bellstate.xclbin\"\n",
    "firmware_path = \"\""
   ]
  },
  {
   "cell_type": "code",
   "execution_count": null,
   "id": "b9045be6-4b4b-4144-b70c-0b751c53afb0",
   "metadata": {},
   "outputs": [],
   "source": [
    "X_test = np.load(\"features.npy\")\n",
    "y_test = np.load(\"features.npy\")"
   ]
  },
  {
   "cell_type": "code",
   "execution_count": null,
   "id": "c3ad94ac-e0c3-43fd-bc8e-928c5622f602",
   "metadata": {},
   "outputs": [],
   "source": [
    "predictor = Predictor(firmware_name, firmware_path, model_specs)"
   ]
  },
  {
   "cell_type": "code",
   "execution_count": null,
   "id": "592bf291-3ba5-4116-b750-c62fd8ba568a",
   "metadata": {},
   "outputs": [],
   "source": [
    "# program the ALVEO CARD\n",
    "predictor.load_overlay()"
   ]
  },
  {
   "cell_type": "code",
   "execution_count": null,
   "id": "1aea733f-e410-4543-aeca-c18c0a5fd706",
   "metadata": {},
   "outputs": [],
   "source": [
    "# prepare the data to be sent to the alveo card\n",
    "predictor.prepare_data(X_test, y_test)\n"
   ]
  },
  {
   "cell_type": "code",
   "execution_count": null,
   "id": "20cc6ecb-050d-49cb-80fc-ff5df1c60b2c",
   "metadata": {},
   "outputs": [],
   "source": [
    "# run the computation\n",
    "status, result = predictor.predict(debug=True)"
   ]
  },
  {
   "cell_type": "code",
   "execution_count": null,
   "id": "af1b4ddd-097c-41d4-bd9c-3c55879d3cd1",
   "metadata": {},
   "outputs": [],
   "source": [
    "print(result['all_probs'][0])"
   ]
  },
  {
   "cell_type": "code",
   "execution_count": null,
   "id": "949fbfb8-540b-48f5-8893-b316872dc8fb",
   "metadata": {},
   "outputs": [],
   "source": [
    "%%bash\n",
    "source /opt/xilinx/xrt/setup.sh\n",
    "xbutil examine"
   ]
  }
 ],
 "metadata": {
  "kernelspec": {
   "display_name": "base",
   "language": "python",
   "name": "python3"
  },
  "language_info": {
   "codemirror_mode": {
    "name": "ipython",
    "version": 3
   },
   "file_extension": ".py",
   "mimetype": "text/x-python",
   "name": "python",
   "nbconvert_exporter": "python",
   "pygments_lexer": "ipython3",
   "version": "3.9.21"
  }
 },
 "nbformat": 4,
 "nbformat_minor": 5
}
