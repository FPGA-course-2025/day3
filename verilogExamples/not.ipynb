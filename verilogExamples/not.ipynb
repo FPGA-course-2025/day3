{
 "cells": [
  {
   "cell_type": "markdown",
   "id": "3deec242",
   "metadata": {},
   "source": [
    "# Not"
   ]
  },
  {
   "cell_type": "markdown",
   "id": "4ee8617a",
   "metadata": {},
   "source": [
    "### Creation\n",
    "This cell uses a bash magic command to create a Verilog file `notm.v` inside the `not` directory. The file defines a simple module `blinkModule` that inverts its input signal `A` and outputs the result on `B`."
   ]
  },
  {
   "cell_type": "code",
   "execution_count": 2,
   "id": "f78baee1",
   "metadata": {},
   "outputs": [],
   "source": [
    "%%bash\n",
    "\n",
    "cat <<EOF > not/notm.v\n",
    "module blinkModule(A, B);\n",
    "\tinput wire A;\n",
    "\toutput wire B;\n",
    "\tassign B = ~A;\n",
    "endmodule\n",
    "EOF"
   ]
  },
  {
   "cell_type": "markdown",
   "id": "7fa5c6af",
   "metadata": {},
   "source": [
    "The next cell is a bash cell that creates a Verilog testbench file named `blink_tb.v` inside the `blink_tb` directory.\n",
    "The testbench defines a module `blinkModule_tb` with a clock signal that toggles every time unit, sets up waveform dumping for simulation,\n",
    "initializes the clock to 0, runs the simulation for 10 time units, and then finishes.\n",
    "The Verilog code is written into the file using a bash here-document.\n",
    "\n",
    "WARNING: Pay attention to the $ caracter in the bash cell."
   ]
  },
  {
   "cell_type": "code",
   "execution_count": 3,
   "id": "0297a799",
   "metadata": {},
   "outputs": [],
   "source": [
    "%%bash\n",
    "\n",
    "cat <<EOF > not/notm_tb.v\n",
    "module blinkModule_tb();\n",
    "\twire out;\n",
    "\treg clock;\n",
    "\n",
    "\talways begin\n",
    "\t\t#1 clock = !clock;\n",
    "\tend\n",
    "\n",
    "\tinitial begin\n",
    "\t\t\\$dumpfile(\"blink.vcd\");\n",
    "\t\t\\$dumpvars;\n",
    "\tend\n",
    "\t\n",
    "\tinitial begin\n",
    "\t\tclock = 0;\n",
    "\t\t#10\n",
    "\t\t\\$finish;\n",
    "\tend\n",
    "\n",
    "\tblinkModule blinkGate(clock, out);\n",
    "endmodule\n",
    "EOF"
   ]
  },
  {
   "cell_type": "markdown",
   "id": "da5ab104",
   "metadata": {},
   "source": [
    "### Run\n",
    "The next cell executes a series of commands to compile and run the testbench using `iverilog` \n",
    "\n",
    "1. Changes the working directory to `blink_tb`.\n",
    "2. Removes any existing `blink_tb.vcd` and `blink_tb` files to ensure a clean simulation run.\n",
    "3. Compiles the Verilog testbench file `blink_tb.v` using `iverilog`, producing an executable named `blink_tb`.\n",
    "4. Runs the compiled testbench executable `./blink_tb` to perform the simulation and generate the waveform output."
   ]
  },
  {
   "cell_type": "code",
   "execution_count": 4,
   "id": "19d1ddd6",
   "metadata": {},
   "outputs": [
    {
     "name": "stdout",
     "output_type": "stream",
     "text": [
      "VCD info: dumpfile blink.vcd opened for output.\n",
      "blink_tb.v:17: $finish called at 10 (1s)\n"
     ]
    }
   ],
   "source": [
    "%%bash\n",
    "cd blink\n",
    "rm -f blink_tb.vcd blink_tb\n",
    "iverilog blink_tb.v blink.v -o blink_tb\n",
    "./blink_tb"
   ]
  },
  {
   "cell_type": "markdown",
   "id": "23ed882e",
   "metadata": {},
   "source": [
    "### Cleanup"
   ]
  },
  {
   "cell_type": "code",
   "execution_count": 5,
   "id": "c1c018b1",
   "metadata": {},
   "outputs": [],
   "source": [
    "%%bash\n",
    "cd blink_tb\n",
    "rm -f blink_tb.vcd blink_tb"
   ]
  }
 ],
 "metadata": {
  "kernelspec": {
   "display_name": "base",
   "language": "python",
   "name": "python3"
  },
  "language_info": {
   "codemirror_mode": {
    "name": "ipython",
    "version": 3
   },
   "file_extension": ".py",
   "mimetype": "text/x-python",
   "name": "python",
   "nbconvert_exporter": "python",
   "pygments_lexer": "ipython3",
   "version": "3.9.21"
  }
 },
 "nbformat": 4,
 "nbformat_minor": 5
}
