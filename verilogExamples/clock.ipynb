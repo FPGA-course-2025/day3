{
 "cells": [
  {
   "cell_type": "markdown",
   "id": "3deec242",
   "metadata": {},
   "source": [
    "# Clock testbench"
   ]
  },
  {
   "cell_type": "markdown",
   "id": "7fa5c6af",
   "metadata": {},
   "source": [
    "### Creation\n",
    "The next cell is a bash cell that creates a Verilog testbench file named `clock.v` inside the `clock` directory.\n",
    "The testbench defines a module `clockModule_tb` with a clock signal that toggles every time unit, sets up waveform dumping for simulation,\n",
    "initializes the clock to 0, runs the simulation for 10 time units, and then finishes.\n",
    "The Verilog code is written into the file using a bash here-document."
   ]
  },
  {
   "cell_type": "code",
   "execution_count": null,
   "id": "0297a799",
   "metadata": {},
   "outputs": [],
   "source": [
    "%%bash\n",
    "\n",
    "cat <<EOF > clock/clock.v\n",
    "module clockModule_tb();\n",
    "\treg clock;\n",
    "\n",
    "\talways begin\n",
    "\t\t#1 clock = !clock;\n",
    "\tend\n",
    "\n",
    "\tinitial begin\n",
    "\t\t\\$dumpfile(\"clock.vcd\");\n",
    "\t\t\\$dumpvars;\n",
    "\tend\n",
    "\t\n",
    "\tinitial begin\n",
    "\t\tclock = 0;\n",
    "\t\t#10\n",
    "\t\t\\$finish;\n",
    "\tend\n",
    "endmodule\n",
    "EOF"
   ]
  },
  {
   "cell_type": "markdown",
   "id": "da5ab104",
   "metadata": {},
   "source": [
    "### Run\n",
    "The next cell executes a series of commands to compile and run the testbench using `iverilog` \n",
    "\n",
    "1. Changes the working directory to `clock`.\n",
    "2. Removes any existing `clock.vcd` and `clock` files to ensure a clean simulation run.\n",
    "3. Compiles the Verilog testbench file `clock.v` using `iverilog`, producing an executable named `clock`.\n",
    "4. Runs the compiled testbench executable `./clock` to perform the simulation and generate the waveform output."
   ]
  },
  {
   "cell_type": "code",
   "execution_count": null,
   "id": "19d1ddd6",
   "metadata": {},
   "outputs": [],
   "source": [
    "%%bash\n",
    "cd clock\n",
    "rm -f clock.vcd clock_tb\n",
    "iverilog clock.v -o clock\n",
    "./clock"
   ]
  },
  {
   "cell_type": "markdown",
   "id": "23ed882e",
   "metadata": {},
   "source": [
    "### Cleanup"
   ]
  },
  {
   "cell_type": "code",
   "execution_count": null,
   "id": "c1c018b1",
   "metadata": {},
   "outputs": [],
   "source": [
    "%%bash\n",
    "cd clock\n",
    "rm -f clock.vcd clock"
   ]
  }
 ],
 "metadata": {
  "kernelspec": {
   "display_name": "base",
   "language": "python",
   "name": "python3"
  },
  "language_info": {
   "codemirror_mode": {
    "name": "ipython",
    "version": 3
   },
   "file_extension": ".py",
   "mimetype": "text/x-python",
   "name": "python",
   "nbconvert_exporter": "python",
   "pygments_lexer": "ipython3",
   "version": "3.9.21"
  }
 },
 "nbformat": 4,
 "nbformat_minor": 5
}
