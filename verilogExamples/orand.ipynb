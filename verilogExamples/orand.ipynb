{
 "cells": [
  {
   "cell_type": "markdown",
   "id": "3deec242",
   "metadata": {},
   "source": [
    "# And Or"
   ]
  },
  {
   "cell_type": "markdown",
   "id": "4ee8617a",
   "metadata": {},
   "source": [
    "### Creation of the modules\n",
    "This cell uses a bash magic command to create a Verilog source file `orand.v` containing two modules: `andModule` and `orModule`. Each module implements a basic logic gate (AND and OR) with two inputs and one output. The Verilog code is written into the file using a here-document."
   ]
  },
  {
   "cell_type": "code",
   "execution_count": 5,
   "id": "f78baee1",
   "metadata": {},
   "outputs": [],
   "source": [
    "%%bash\n",
    "\n",
    "cat <<EOF > orand/orand.v\n",
    "module andModule(A, B, C);\n",
    "        input wire A;\n",
    "        input wire B;\n",
    "        output wire C;\n",
    "        assign C = A & B;\n",
    "endmodule\n",
    "\n",
    "module orModule(A, B, C);\n",
    "        input wire A;\n",
    "        input wire B;\n",
    "        output wire C;\n",
    "        assign C = A | B;\n",
    "endmodule\n",
    "EOF"
   ]
  },
  {
   "cell_type": "markdown",
   "id": "7fa5c6af",
   "metadata": {},
   "source": [
    "### Creation of the testbench\n",
    "\n",
    "This cell creates a Verilog testbench file `orand_tb.v` that instantiates the `andModule` and `orModule`, applies test inputs, and generates a VCD waveform for simulation analysis.\n"
   ]
  },
  {
   "cell_type": "code",
   "execution_count": 6,
   "id": "0297a799",
   "metadata": {},
   "outputs": [],
   "source": [
    "%%bash\n",
    "\n",
    "cat <<EOF > orand/orand_tb.v\n",
    "module orand_tb();\n",
    "        wire andout;\n",
    "        wire orout;\n",
    "        reg clock;\n",
    "        reg test1;\n",
    "        reg test2;\n",
    "\n",
    "        always begin\n",
    "                #1 clock = !clock;\n",
    "        end\n",
    "\n",
    "        initial begin\n",
    "                \\$dumpfile(\"orand.vcd\");\n",
    "                \\$dumpvars;\n",
    "        end\n",
    "\n",
    "        initial begin\n",
    "                clock = 0;\n",
    "                test1 = 1'b0;\n",
    "                test2 = 1'b0;\n",
    "                #3\n",
    "                test1 = 1'b1;\n",
    "                #3\n",
    "                test2 = 1'b1;\n",
    "                #10\n",
    "                \\$finish;\n",
    "        end\n",
    "\n",
    "        andModule andGate(test1,clock, andout);\n",
    "        orModule orGate(andout,test2, orout);\n",
    "endmodule\n",
    "EOF"
   ]
  },
  {
   "cell_type": "markdown",
   "id": "da5ab104",
   "metadata": {},
   "source": [
    "### Run\n",
    "This cell compiles and runs the Verilog testbench using Icarus Verilog. It changes into the `orand` directory, removes any previous output files, compiles the Verilog source and testbench files into an executable, and then runs the simulation to generate the VCD waveform output."
   ]
  },
  {
   "cell_type": "code",
   "execution_count": 7,
   "id": "19d1ddd6",
   "metadata": {},
   "outputs": [
    {
     "name": "stdout",
     "output_type": "stream",
     "text": [
      "VCD info: dumpfile orand.vcd opened for output.\n",
      "orand_tb.v:26: $finish called at 16 (1s)\n"
     ]
    }
   ],
   "source": [
    "%%bash\n",
    "cd orand\n",
    "rm -f orand.vcd orand_tb\n",
    "iverilog orand.v orand_tb.v -o orand_tb\n",
    "./orand_tb"
   ]
  },
  {
   "cell_type": "markdown",
   "id": "23ed882e",
   "metadata": {},
   "source": [
    "### Cleanup"
   ]
  },
  {
   "cell_type": "code",
   "execution_count": 8,
   "id": "c1c018b1",
   "metadata": {},
   "outputs": [],
   "source": [
    "%%bash\n",
    "cd orand\n",
    "rm -f orand_tb orand.vcd"
   ]
  }
 ],
 "metadata": {
  "kernelspec": {
   "display_name": "base",
   "language": "python",
   "name": "python3"
  },
  "language_info": {
   "codemirror_mode": {
    "name": "ipython",
    "version": 3
   },
   "file_extension": ".py",
   "mimetype": "text/x-python",
   "name": "python",
   "nbconvert_exporter": "python",
   "pygments_lexer": "ipython3",
   "version": "3.9.21"
  }
 },
 "nbformat": 4,
 "nbformat_minor": 5
}
