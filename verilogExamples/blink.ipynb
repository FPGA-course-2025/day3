{
 "cells": [
  {
   "cell_type": "markdown",
   "id": "3deec242",
   "metadata": {},
   "source": [
    "# Clock testbench"
   ]
  },
  {
   "cell_type": "markdown",
   "id": "4ee8617a",
   "metadata": {},
   "source": [
    "### Creation"
   ]
  },
  {
   "cell_type": "code",
   "execution_count": 1,
   "id": "f78baee1",
   "metadata": {},
   "outputs": [],
   "source": [
    "%%bash\n",
    "\n",
    "cat <<EOF > blink/blink.v\n",
    "module blinkModule(A, B);\n",
    "\tinput wire A;\n",
    "\toutput wire B;\n",
    "\tassign B = A;\n",
    "endmodule\n",
    "EOF"
   ]
  },
  {
   "cell_type": "markdown",
   "id": "7fa5c6af",
   "metadata": {},
   "source": [
    "The next cell is a bash cell that creates a Verilog testbench file named `blink_tb.v` inside the `blink_tb` directory.\n",
    "The testbench defines a module `blinkModule_tb` with a clock signal that toggles every time unit, sets up waveform dumping for simulation,\n",
    "initializes the clock to 0, runs the simulation for 10 time units, and then finishes.\n",
    "The Verilog code is written into the file using a bash here-document.\n",
    "\n",
    "WARNING: Pay attention to the $ caracter in the bash cell."
   ]
  },
  {
   "cell_type": "code",
   "execution_count": null,
   "id": "0297a799",
   "metadata": {},
   "outputs": [],
   "source": [
    "%%bash\n",
    "\n",
    "cat <<EOF > blink/blink_tb.v\n",
    "module blinkModule_tb();\n",
    "\twire out;\n",
    "\treg clock;\n",
    "\n",
    "\talways begin\n",
    "\t\t#1 clock = !clock;\n",
    "\tend\n",
    "\n",
    "\tinitial begin\n",
    "\t\t\\$dumpfile(\"blink.vcd\");\n",
    "\t\t\\$dumpvars;\n",
    "\tend\n",
    "\t\n",
    "\tinitial begin\n",
    "\t\tclock = 0;\n",
    "\t\t#10\n",
    "\t\t\\$finish;\n",
    "\tend\n",
    "\n",
    "\tblinkModule blinkGate(clock, out);\n",
    "endmodule\n",
    "EOF"
   ]
  },
  {
   "cell_type": "markdown",
   "id": "da5ab104",
   "metadata": {},
   "source": [
    "### Run\n",
    "The next cell executes a series of commands to compile and run the testbench using `iverilog` \n",
    "\n",
    "1. Changes the working directory to `blink_tb`.\n",
    "2. Removes any existing `blink_tb.vcd` and `blink_tb` files to ensure a clean simulation run.\n",
    "3. Compiles the Verilog testbench file `blink_tb.v` using `iverilog`, producing an executable named `blink_tb`.\n",
    "4. Runs the compiled testbench executable `./blink_tb` to perform the simulation and generate the waveform output."
   ]
  },
  {
   "cell_type": "code",
   "execution_count": 3,
   "id": "19d1ddd6",
   "metadata": {},
   "outputs": [
    {
     "name": "stderr",
     "output_type": "stream",
     "text": [
      "blink_tb.v:10: syntax error\n",
      "blink_tb.v:10: error: Malformed statement\n",
      "bash: line 4: ./blink_tb: No such file or directory\n"
     ]
    },
    {
     "ename": "CalledProcessError",
     "evalue": "Command 'b'cd blink\\nrm -f blink_tb.vcd blink_tb\\niverilog blink_tb.v blink.v -o blink_tb\\n./blink_tb\\n'' returned non-zero exit status 127.",
     "output_type": "error",
     "traceback": [
      "\u001b[0;31m---------------------------------------------------------------------------\u001b[0m",
      "\u001b[0;31mCalledProcessError\u001b[0m                        Traceback (most recent call last)",
      "Cell \u001b[0;32mIn[3], line 1\u001b[0m\n\u001b[0;32m----> 1\u001b[0m \u001b[43mget_ipython\u001b[49m\u001b[43m(\u001b[49m\u001b[43m)\u001b[49m\u001b[38;5;241;43m.\u001b[39;49m\u001b[43mrun_cell_magic\u001b[49m\u001b[43m(\u001b[49m\u001b[38;5;124;43m'\u001b[39;49m\u001b[38;5;124;43mbash\u001b[39;49m\u001b[38;5;124;43m'\u001b[39;49m\u001b[43m,\u001b[49m\u001b[43m \u001b[49m\u001b[38;5;124;43m'\u001b[39;49m\u001b[38;5;124;43m'\u001b[39;49m\u001b[43m,\u001b[49m\u001b[43m \u001b[49m\u001b[38;5;124;43m'\u001b[39;49m\u001b[38;5;124;43mcd blink\u001b[39;49m\u001b[38;5;130;43;01m\\n\u001b[39;49;00m\u001b[38;5;124;43mrm -f blink_tb.vcd blink_tb\u001b[39;49m\u001b[38;5;130;43;01m\\n\u001b[39;49;00m\u001b[38;5;124;43miverilog blink_tb.v blink.v -o blink_tb\u001b[39;49m\u001b[38;5;130;43;01m\\n\u001b[39;49;00m\u001b[38;5;124;43m./blink_tb\u001b[39;49m\u001b[38;5;130;43;01m\\n\u001b[39;49;00m\u001b[38;5;124;43m'\u001b[39;49m\u001b[43m)\u001b[49m\n",
      "File \u001b[0;32m/tools/Conda/lib/python3.9/site-packages/IPython/core/interactiveshell.py:2493\u001b[0m, in \u001b[0;36mInteractiveShell.run_cell_magic\u001b[0;34m(self, magic_name, line, cell)\u001b[0m\n\u001b[1;32m   2491\u001b[0m \u001b[38;5;28;01mwith\u001b[39;00m \u001b[38;5;28mself\u001b[39m\u001b[38;5;241m.\u001b[39mbuiltin_trap:\n\u001b[1;32m   2492\u001b[0m     args \u001b[38;5;241m=\u001b[39m (magic_arg_s, cell)\n\u001b[0;32m-> 2493\u001b[0m     result \u001b[38;5;241m=\u001b[39m \u001b[43mfn\u001b[49m\u001b[43m(\u001b[49m\u001b[38;5;241;43m*\u001b[39;49m\u001b[43margs\u001b[49m\u001b[43m,\u001b[49m\u001b[43m \u001b[49m\u001b[38;5;241;43m*\u001b[39;49m\u001b[38;5;241;43m*\u001b[39;49m\u001b[43mkwargs\u001b[49m\u001b[43m)\u001b[49m\n\u001b[1;32m   2495\u001b[0m \u001b[38;5;66;03m# The code below prevents the output from being displayed\u001b[39;00m\n\u001b[1;32m   2496\u001b[0m \u001b[38;5;66;03m# when using magics with decorator @output_can_be_silenced\u001b[39;00m\n\u001b[1;32m   2497\u001b[0m \u001b[38;5;66;03m# when the last Python token in the expression is a ';'.\u001b[39;00m\n\u001b[1;32m   2498\u001b[0m \u001b[38;5;28;01mif\u001b[39;00m \u001b[38;5;28mgetattr\u001b[39m(fn, magic\u001b[38;5;241m.\u001b[39mMAGIC_OUTPUT_CAN_BE_SILENCED, \u001b[38;5;28;01mFalse\u001b[39;00m):\n",
      "File \u001b[0;32m/tools/Conda/lib/python3.9/site-packages/IPython/core/magics/script.py:154\u001b[0m, in \u001b[0;36mScriptMagics._make_script_magic.<locals>.named_script_magic\u001b[0;34m(line, cell)\u001b[0m\n\u001b[1;32m    152\u001b[0m \u001b[38;5;28;01melse\u001b[39;00m:\n\u001b[1;32m    153\u001b[0m     line \u001b[38;5;241m=\u001b[39m script\n\u001b[0;32m--> 154\u001b[0m \u001b[38;5;28;01mreturn\u001b[39;00m \u001b[38;5;28;43mself\u001b[39;49m\u001b[38;5;241;43m.\u001b[39;49m\u001b[43mshebang\u001b[49m\u001b[43m(\u001b[49m\u001b[43mline\u001b[49m\u001b[43m,\u001b[49m\u001b[43m \u001b[49m\u001b[43mcell\u001b[49m\u001b[43m)\u001b[49m\n",
      "File \u001b[0;32m/tools/Conda/lib/python3.9/site-packages/IPython/core/magics/script.py:314\u001b[0m, in \u001b[0;36mScriptMagics.shebang\u001b[0;34m(self, line, cell)\u001b[0m\n\u001b[1;32m    309\u001b[0m \u001b[38;5;28;01mif\u001b[39;00m args\u001b[38;5;241m.\u001b[39mraise_error \u001b[38;5;129;01mand\u001b[39;00m p\u001b[38;5;241m.\u001b[39mreturncode \u001b[38;5;241m!=\u001b[39m \u001b[38;5;241m0\u001b[39m:\n\u001b[1;32m    310\u001b[0m     \u001b[38;5;66;03m# If we get here and p.returncode is still None, we must have\u001b[39;00m\n\u001b[1;32m    311\u001b[0m     \u001b[38;5;66;03m# killed it but not yet seen its return code. We don't wait for it,\u001b[39;00m\n\u001b[1;32m    312\u001b[0m     \u001b[38;5;66;03m# in case it's stuck in uninterruptible sleep. -9 = SIGKILL\u001b[39;00m\n\u001b[1;32m    313\u001b[0m     rc \u001b[38;5;241m=\u001b[39m p\u001b[38;5;241m.\u001b[39mreturncode \u001b[38;5;129;01mor\u001b[39;00m \u001b[38;5;241m-\u001b[39m\u001b[38;5;241m9\u001b[39m\n\u001b[0;32m--> 314\u001b[0m     \u001b[38;5;28;01mraise\u001b[39;00m CalledProcessError(rc, cell)\n",
      "\u001b[0;31mCalledProcessError\u001b[0m: Command 'b'cd blink\\nrm -f blink_tb.vcd blink_tb\\niverilog blink_tb.v blink.v -o blink_tb\\n./blink_tb\\n'' returned non-zero exit status 127."
     ]
    }
   ],
   "source": [
    "%%bash\n",
    "cd blink\n",
    "rm -f blink_tb.vcd blink_tb\n",
    "iverilog blink_tb.v blink.v -o blink_tb\n",
    "./blink_tb"
   ]
  },
  {
   "cell_type": "markdown",
   "id": "23ed882e",
   "metadata": {},
   "source": [
    "### Cleanup"
   ]
  },
  {
   "cell_type": "code",
   "execution_count": null,
   "id": "c1c018b1",
   "metadata": {},
   "outputs": [],
   "source": [
    "%%bash\n",
    "cd blink_tb\n",
    "rm -f blink_tb.vcd blink_tb"
   ]
  }
 ],
 "metadata": {
  "kernelspec": {
   "display_name": "base",
   "language": "python",
   "name": "python3"
  },
  "language_info": {
   "codemirror_mode": {
    "name": "ipython",
    "version": 3
   },
   "file_extension": ".py",
   "mimetype": "text/x-python",
   "name": "python",
   "nbconvert_exporter": "python",
   "pygments_lexer": "ipython3",
   "version": "3.9.21"
  }
 },
 "nbformat": 4,
 "nbformat_minor": 5
}
