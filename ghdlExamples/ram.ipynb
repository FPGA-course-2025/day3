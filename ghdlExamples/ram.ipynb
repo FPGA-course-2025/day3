{
 "cells": [
  {
   "cell_type": "markdown",
   "id": "3deec242",
   "metadata": {},
   "source": [
    "# RAM"
   ]
  },
  {
   "cell_type": "code",
   "execution_count": 13,
   "id": "ef1a47be",
   "metadata": {},
   "outputs": [],
   "source": [
    "%%bash\n",
    "\n",
    "cat <<EOF > ram/ram.vhdl\n",
    "LIBRARY ieee;\n",
    "USE ieee.std_logic_1164.all;\n",
    "USE ieee.numeric_std.all;\n",
    "\n",
    "entity ram IS\n",
    "\tPORT (\n",
    "\t\tclk : IN STD_LOGIC;\n",
    "\t\ta : IN STD_LOGIC_VECTOR(4 DOWNTO 0);\n",
    "\t\tdi : IN STD_LOGIC_VECTOR(3 DOWNTO 0);\n",
    "\t\twe : IN STD_LOGIC;\n",
    "\t\tdo : OUT STD_LOGIC_VECTOR(3 DOWNTO 0)\n",
    "\t);\n",
    "END ram;\n",
    "\n",
    "ARCHITECTURE Behavioral OF ram IS\n",
    "\tTYPE ram_type IS ARRAY (31 DOWNTO 0)\n",
    "\tOF STD_LOGIC_VECTOR (3 DOWNTO 0);\n",
    "\tSIGNAL mem : ram_type := (OTHERS => (OTHERS => '0'));\n",
    "\tSIGNAL read_a : STD_LOGIC_VECTOR(4 DOWNTO 0);\n",
    "BEGIN\n",
    "\tPROCESS (clk)\n",
    "\tBEGIN\n",
    "\t\tIF rising_edge(Clk) THEN\n",
    "\t\t\tIF (we = '1') THEN\n",
    "\t\t\t\tmem(to_integer(unsigned(a))) <= di;\n",
    "\t\t\tEND IF;\n",
    "\t\t\tread_a <= a;\n",
    "\t\tEND IF;\n",
    "\tEND PROCESS;\n",
    "\tdo <= mem(to_integer(unsigned(read_a)));\n",
    "END Behavioral;\n",
    "EOF"
   ]
  },
  {
   "cell_type": "code",
   "execution_count": null,
   "id": "ccb4e870",
   "metadata": {},
   "outputs": [],
   "source": [
    "%%bash\n",
    "cat <<EOF > ram/ram_tb.vhdl\n",
    "LIBRARY IEEE;\n",
    "USE IEEE.STD_LOGIC_1164.ALL;\n",
    "\n",
    "ENTITY ram_tb IS\n",
    "END ram_tb;\n",
    "\n",
    "ARCHITECTURE behaviour OF ram_tb IS\n",
    "  --  Declaration of the component that will be instantiated.\n",
    "  COMPONENT ram\n",
    "    PORT ( clk : IN STD_LOGIC;\n",
    "          a : IN STD_LOGIC_VECTOR(4 DOWNTO 0);\n",
    "          di : IN STD_LOGIC_VECTOR(3 DOWNTO 0);\n",
    "          we : IN STD_LOGIC;\n",
    "          do : OUT STD_LOGIC_VECTOR(3 DOWNTO 0));\n",
    "  END COMPONENT;\n",
    "\n",
    "  COMPONENT heartbeat\n",
    "    PORT (clk : OUT STD_LOGIC);\n",
    "  END COMPONENT;\n",
    "\n",
    "  --  Specifies which entity is bound with the component.\n",
    "  FOR ram_0 : ram USE ENTITY work.ram;\n",
    "  FOR heartbeat_0 : heartbeat USE ENTITY work.heartbeat;\n",
    "\n",
    "  SIGNAL clk : STD_LOGIC;\n",
    "  SIGNAL a : STD_LOGIC_VECTOR(4 DOWNTO 0) := \"00000\";\n",
    "  SIGNAL di : STD_LOGIC_VECTOR(3 DOWNTO 0) := \"0000\";\n",
    "  SIGNAL we : STD_LOGIC;\n",
    "  SIGNAL do : STD_LOGIC_VECTOR(3 DOWNTO 0);\n",
    "\n",
    "BEGIN\n",
    "  --  Component instantiation.\n",
    "  ram_0 : ram PORT MAP(clk => clk, a => a, di => di, we => we, do => do);\n",
    "  heartbeat_0 : heartbeat PORT MAP(clk => clk);\n",
    "\n",
    "  --  This process does the real job.\n",
    "  PROCESS\n",
    "    BEGIN\n",
    "    wait for 100 ns;\n",
    "    a <= \"00000\";  -- Address 0\n",
    "    di <= \"0001\";  -- Data to write\n",
    "    we <= '1';     -- Write enable\n",
    "    WAIT for 100 ns;\n",
    "    a <= \"00001\";  -- Address 0\n",
    "    we <= '0';     -- Disable write\n",
    "    WAIT for 100 ns;\n",
    "    a <= \"00000\";  -- Address 0\n",
    "  Wait;\n",
    "  END PROCESS;\n",
    "\n",
    "END ARCHITECTURE behaviour;\n",
    "EOF"
   ]
  },
  {
   "cell_type": "code",
   "execution_count": 15,
   "id": "19d1ddd6",
   "metadata": {},
   "outputs": [
    {
     "name": "stdout",
     "output_type": "stream",
     "text": [
      "../../src/ieee/v93/numeric_std-body.vhdl:2098:7:@0ms:(assertion warning): NUMERIC_STD.TO_INTEGER: metavalue detected, returning 0\n",
      "ghdl:info: simulation stopped by --stop-time @5us\n"
     ]
    }
   ],
   "source": [
    "%%bash\n",
    "cd ram\n",
    "rm -f work* *.ghw\n",
    "ghdl -a heartbeat.vhdl\n",
    "ghdl -a ram.vhdl\n",
    "ghdl -a ram_tb.vhdl\n",
    "ghdl -r ram_tb --stop-time=5000ns --wave=sm1_tb.ghw"
   ]
  },
  {
   "cell_type": "markdown",
   "id": "1fd59636",
   "metadata": {},
   "source": [
    "Clean up cell"
   ]
  },
  {
   "cell_type": "code",
   "execution_count": 16,
   "id": "86d76bf1",
   "metadata": {},
   "outputs": [],
   "source": [
    "%%bash\n",
    "cd ram\n",
    "rm -f work* *.ghw"
   ]
  }
 ],
 "metadata": {
  "kernelspec": {
   "display_name": "base",
   "language": "python",
   "name": "python3"
  },
  "language_info": {
   "codemirror_mode": {
    "name": "ipython",
    "version": 3
   },
   "file_extension": ".py",
   "mimetype": "text/x-python",
   "name": "python",
   "nbconvert_exporter": "python",
   "pygments_lexer": "ipython3",
   "version": "3.9.21"
  }
 },
 "nbformat": 4,
 "nbformat_minor": 5
}
