{
 "cells": [
  {
   "cell_type": "markdown",
   "id": "3deec242",
   "metadata": {},
   "source": [
    "# Adder"
   ]
  },
  {
   "cell_type": "markdown",
   "id": "0043e54e",
   "metadata": {},
   "source": [
    "### Creation\n",
    "This cell creates an VHDL files: one for a full-adder entity and its architecture. The cell uses a bash-here document to write the VHDL \n",
    "code into the files."
   ]
  },
  {
   "cell_type": "code",
   "execution_count": 4,
   "id": "0297a799",
   "metadata": {},
   "outputs": [],
   "source": [
    "%%bash\n",
    "\n",
    "cat <<EOF > adder/adder.vhdl\n",
    "entity adder is\n",
    "  -- \"i0\", \"i1\", and the carry-in \"ci\" are inputs of the adder.\n",
    "  -- \"s\" is the sum output, \"co\" is the carry-out.\n",
    "  port (i0, i1 : in bit; ci : in bit; s : out bit; co : out bit);\n",
    "end adder;\n",
    "\n",
    "architecture rtl of adder is\n",
    "begin\n",
    "  --  This full-adder architecture contains two concurrent assignments.\n",
    "  --  Compute the sum.\n",
    "  s <= i0 xor i1 xor ci;\n",
    "  --  Compute the carry.\n",
    "  co <= (i0 and i1) or (i0 and ci) or (i1 and ci);\n",
    "end rtl;\n",
    "EOF"
   ]
  },
  {
   "cell_type": "markdown",
   "id": "1dd1532c",
   "metadata": {},
   "source": [
    "### Testbench creation\n",
    "This cell creates a VHDL testbench file for the adder. It writes the testbench code into `adder/adder_tb.vhdl` using a bash here-document. The testbench instantiates the adder component, applies a set of input patterns, and checks the outputs for correctness."
   ]
  },
  {
   "cell_type": "code",
   "execution_count": 5,
   "id": "47395a0a",
   "metadata": {},
   "outputs": [],
   "source": [
    "%%bash\n",
    "\n",
    "cat <<EOF > adder/adder_tb.vhdl\n",
    "--  A testbench has no ports.\n",
    "entity adder_tb is\n",
    "end adder_tb;\n",
    "\n",
    "architecture behav of adder_tb is\n",
    "  --  Declaration of the component that will be instantiated.\n",
    "  component adder\n",
    "    port (i0, i1 : in bit; ci : in bit; s : out bit; co : out bit);\n",
    "  end component;\n",
    "\n",
    "  --  Specifies which entity is bound with the component.\n",
    "  for adder_0: adder use entity work.adder;\n",
    "  signal i0, i1, ci, s, co : bit;\n",
    "begin\n",
    "  --  Component instantiation.\n",
    "  adder_0: adder port map (i0 => i0, i1 => i1, ci => ci, s => s, co => co);\n",
    "\n",
    "  --  This process does the real job.\n",
    "  process\n",
    "    type pattern_type is record\n",
    "      --  The inputs of the adder.\n",
    "      i0, i1, ci : bit;\n",
    "      --  The expected outputs of the adder.\n",
    "      s, co : bit;\n",
    "    end record;\n",
    "    --  The patterns to apply.\n",
    "    type pattern_array is array (natural range <>) of pattern_type;\n",
    "    constant patterns : pattern_array :=\n",
    "      (('0', '0', '0', '0', '0'),\n",
    "       ('0', '0', '1', '1', '0'),\n",
    "       ('0', '1', '0', '1', '0'),\n",
    "       ('0', '1', '1', '0', '1'),\n",
    "       ('1', '0', '0', '1', '0'),\n",
    "       ('1', '0', '1', '0', '1'),\n",
    "       ('1', '1', '0', '0', '1'),\n",
    "       ('1', '1', '1', '1', '1'));\n",
    "  begin\n",
    "    --  Check each pattern.\n",
    "    for i in patterns'range loop\n",
    "      --  Set the inputs.\n",
    "      i0 <= patterns(i).i0;\n",
    "      i1 <= patterns(i).i1;\n",
    "      ci <= patterns(i).ci;\n",
    "      --  Wait for the results.\n",
    "      wait for 1 ns;\n",
    "      --  Check the outputs.\n",
    "      assert s = patterns(i).s\n",
    "        report \"bad sum value\" severity error;\n",
    "      assert co = patterns(i).co\n",
    "        report \"bad carry out value\" severity error;\n",
    "    end loop;\n",
    "    assert false report \"end of test\" severity note;\n",
    "    --  Wait forever; this will finish the simulation.\n",
    "    wait;\n",
    "  end process;\n",
    "\n",
    "end behav;\n",
    "EOF"
   ]
  },
  {
   "cell_type": "markdown",
   "id": "9536af89",
   "metadata": {},
   "source": [
    "\n",
    "### Simulation"
   ]
  },
  {
   "cell_type": "code",
   "execution_count": 6,
   "id": "19d1ddd6",
   "metadata": {},
   "outputs": [
    {
     "name": "stdout",
     "output_type": "stream",
     "text": [
      "adder_tb.vhdl:52:5:@8ns:(assertion note): end of test\n"
     ]
    }
   ],
   "source": [
    "%%bash\n",
    "cd adder\n",
    "rm -f work*\n",
    "ghdl -a adder.vhdl\n",
    "ghdl -a adder_tb.vhdl\n",
    "ghdl -e adder_tb\n",
    "ghdl -r adder_tb"
   ]
  }
 ],
 "metadata": {
  "kernelspec": {
   "display_name": "base",
   "language": "python",
   "name": "python3"
  },
  "language_info": {
   "codemirror_mode": {
    "name": "ipython",
    "version": 3
   },
   "file_extension": ".py",
   "mimetype": "text/x-python",
   "name": "python",
   "nbconvert_exporter": "python",
   "pygments_lexer": "ipython3",
   "version": "3.9.21"
  }
 },
 "nbformat": 4,
 "nbformat_minor": 5
}
