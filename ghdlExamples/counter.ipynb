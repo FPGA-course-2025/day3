{
 "cells": [
  {
   "cell_type": "markdown",
   "id": "3deec242",
   "metadata": {},
   "source": [
    "# Counter"
   ]
  },
  {
   "cell_type": "code",
   "execution_count": 12,
   "id": "ef1a47be",
   "metadata": {},
   "outputs": [],
   "source": [
    "%%bash\n",
    "\n",
    "cat <<EOF > counter/counter.vhdl\n",
    "LIBRARY IEEE;\n",
    "USE IEEE.STD_LOGIC_1164.ALL;\n",
    "USE IEEE.numeric_std.ALL;\n",
    "\n",
    "ENTITY counter IS\n",
    "  PORT (\n",
    "    clk : IN STD_LOGIC;\n",
    "    O : OUT STD_LOGIC_VECTOR(3 DOWNTO 0));\n",
    "END counter;\n",
    "\n",
    "ARCHITECTURE behaviour OF counter IS\n",
    "  SIGNAL count : unsigned(3 DOWNTO 0) := (OTHERS => '0');\n",
    "BEGIN\n",
    "  PROCESS (clk, count)\n",
    "  BEGIN\n",
    "    IF (rising_edge(clk)) THEN\n",
    "      count <= count + 1;\n",
    "    END IF;\n",
    "  END PROCESS;\n",
    "  O <= STD_LOGIC_VECTOR(count);\n",
    "END behaviour;\n",
    "EOF"
   ]
  },
  {
   "cell_type": "code",
   "execution_count": 13,
   "id": "ccb4e870",
   "metadata": {},
   "outputs": [],
   "source": [
    "%%bash\n",
    "cat <<EOF > counter/counter_tb.vhdl\n",
    "LIBRARY IEEE;\n",
    "USE IEEE.STD_LOGIC_1164.ALL;\n",
    "\n",
    "ENTITY counter_tb IS\n",
    "END counter_tb;\n",
    "\n",
    "ARCHITECTURE behaviour OF counter_tb IS\n",
    "  --  Declaration of the component that will be instantiated.\n",
    "  COMPONENT counter\n",
    "    PORT (\n",
    "      Clk : IN STD_LOGIC;\n",
    "      O : OUT STD_LOGIC_VECTOR(3 DOWNTO 0));\n",
    "  END COMPONENT;\n",
    "\n",
    "  COMPONENT heartbeat\n",
    "    PORT (clk : OUT STD_LOGIC);\n",
    "  END COMPONENT;\n",
    "\n",
    "  --  Specifies which entity is bound with the component.\n",
    "  FOR counter_0 : counter USE ENTITY work.counter;\n",
    "  FOR heartbeat_0 : heartbeat USE ENTITY work.heartbeat;\n",
    "\n",
    "  SIGNAL clk : STD_LOGIC;\n",
    "  SIGNAL O : STD_LOGIC_VECTOR(3 DOWNTO 0);\n",
    "  SIGNAL p : BIT;\n",
    "BEGIN\n",
    "  --  Component instantiation.\n",
    "  counter_0 : counter PORT MAP(clk => clk, O => O);\n",
    "  heartbeat_0 : heartbeat PORT MAP(clk => clk);\n",
    "\n",
    "  --  This process does the real job.\n",
    "  PROCESS\n",
    "    TYPE pattern_type IS RECORD\n",
    "      --  The expected outputs of the counter.\n",
    "      O : STD_LOGIC_VECTOR(3 DOWNTO 0);\n",
    "      -- p,q: bit;\n",
    "    END RECORD;\n",
    "    --  The patterns to apply.\n",
    "    TYPE pattern_array IS ARRAY (NATURAL RANGE <>) OF pattern_type;\n",
    "    CONSTANT patterns : pattern_array := ((O => \"0000\"),\n",
    "    (O => \"0001\"),\n",
    "    (O => \"0010\"),\n",
    "    (O => \"0011\"),\n",
    "    (O => \"0100\"),\n",
    "    (O => \"0101\"),\n",
    "    (O => \"0110\"),\n",
    "    (O => \"0111\"),\n",
    "    (O => \"1000\"),\n",
    "    (O => \"1001\"),\n",
    "    (O => \"1010\"),\n",
    "    (O => \"1011\"),\n",
    "    (O => \"1100\"),\n",
    "    (O => \"1101\"),\n",
    "    (O => \"1110\"),\n",
    "    (O => \"1111\"));\n",
    "  BEGIN\n",
    "    --  Check each pattern.\n",
    "    FOR i IN patterns'RANGE LOOP\n",
    "      --  Wait for the clock to toggle.\n",
    "      WAIT UNTIL rising_edge(clk);\n",
    "      --  Check the outputs.\n",
    "      ASSERT O = patterns(i).O\n",
    "      REPORT \"bad output value\" SEVERITY error;\n",
    "    END LOOP;\n",
    "    ASSERT false REPORT \"end of test\" SEVERITY note;\n",
    "    --  Wait forever; this will finish the simulation.\n",
    "    WAIT;\n",
    "  END PROCESS;\n",
    "\n",
    "END ARCHITECTURE behaviour;\n",
    "EOF"
   ]
  },
  {
   "cell_type": "code",
   "execution_count": null,
   "id": "19d1ddd6",
   "metadata": {},
   "outputs": [
    {
     "name": "stdout",
     "output_type": "stream",
     "text": [
      "counter_tb.vhdl:65:5:@155ns:(assertion note): end of test\n",
      "ghdl:info: simulation stopped by --stop-time @5us\n"
     ]
    }
   ],
   "source": [
    "%%bash\n",
    "cd counter\n",
    "rm -f work* *.ghw\n",
    "ghdl -a heartbeat.vhdl\n",
    "ghdl -a counter.vhdl\n",
    "ghdl -a counter_tb.vhdl\n",
    "ghdl -r counter_tb --stop-time=5000ns --wave=counter_tb.ghw"
   ]
  },
  {
   "cell_type": "markdown",
   "id": "1fd59636",
   "metadata": {},
   "source": [
    "Clean up cell"
   ]
  },
  {
   "cell_type": "code",
   "execution_count": 15,
   "id": "86d76bf1",
   "metadata": {},
   "outputs": [],
   "source": [
    "%%bash\n",
    "cd counter\n",
    "rm -f work* *.ghw"
   ]
  }
 ],
 "metadata": {
  "kernelspec": {
   "display_name": "base",
   "language": "python",
   "name": "python3"
  },
  "language_info": {
   "codemirror_mode": {
    "name": "ipython",
    "version": 3
   },
   "file_extension": ".py",
   "mimetype": "text/x-python",
   "name": "python",
   "nbconvert_exporter": "python",
   "pygments_lexer": "ipython3",
   "version": "3.9.21"
  }
 },
 "nbformat": 4,
 "nbformat_minor": 5
}
