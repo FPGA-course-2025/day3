{
 "cells": [
  {
   "cell_type": "markdown",
   "id": "3deec242",
   "metadata": {},
   "source": [
    "# Heartbeat"
   ]
  },
  {
   "cell_type": "markdown",
   "id": "717b2600",
   "metadata": {},
   "source": [
    "### Creation\n",
    "This cell creates a VHDL file for a simple heartbeat module, defining a clock signal that toggles every 5 ns to simulate a periodic clock."
   ]
  },
  {
   "cell_type": "code",
   "execution_count": null,
   "id": "ef1a47be",
   "metadata": {},
   "outputs": [],
   "source": [
    "%%bash\n",
    "\n",
    "cat <<EOF > heartbeat/heartbeat.vhdl\n",
    "library ieee;\n",
    "use ieee.std_logic_1164.all;\n",
    "\n",
    "entity heartbeat is\n",
    "  port ( clk: out std_logic);\n",
    "end heartbeat;\n",
    "\n",
    "architecture behaviour of heartbeat\n",
    "is\n",
    "  constant clk_period : time := 10 ns;\n",
    "begin\n",
    "  -- Clock process definition\n",
    "  clk_process: process\n",
    "  begin\n",
    "    clk <= '0';\n",
    "    wait for clk_period/2;\n",
    "    clk <= '1';\n",
    "    wait for clk_period/2;\n",
    "  end process;\n",
    "end behaviour;\n",
    "EOF"
   ]
  },
  {
   "cell_type": "markdown",
   "id": "99bec61e",
   "metadata": {},
   "source": [
    "### Creation of the testbench\n",
    "This cell generates a VHDL testbench file for the heartbeat module, instantiating the heartbeat component and wiring up the clock signal for simulation."
   ]
  },
  {
   "cell_type": "code",
   "execution_count": null,
   "id": "ccb4e870",
   "metadata": {},
   "outputs": [],
   "source": [
    "%%bash\n",
    "cat <<EOF > heartbeat/heartbeat_tb.vhdl\n",
    "\n",
    "LIBRARY IEEE;\n",
    "USE IEEE.STD_LOGIC_1164.ALL;\n",
    "\n",
    "ENTITY heartbeat_tb IS\n",
    "END heartbeat_tb;\n",
    "\n",
    "ARCHITECTURE behaviour OF heartbeat_tb IS\n",
    "  --  Declaration of the component that will be instantiated.\n",
    "\n",
    "  COMPONENT heartbeat\n",
    "    PORT (clk : OUT STD_LOGIC);\n",
    "  END COMPONENT;\n",
    "\n",
    "  --  Specifies which entity is bound with the component.\n",
    "  FOR heartbeat_0 : heartbeat USE ENTITY work.heartbeat;\n",
    "\n",
    "  SIGNAL clk : STD_LOGIC;\n",
    "\n",
    "BEGIN\n",
    "  --  Component instantiation.\n",
    "  heartbeat_0 : heartbeat PORT MAP(clk => clk);\n",
    "\n",
    "  --  This process does the real job.\n",
    "  PROCESS\n",
    "    BEGIN\n",
    "\n",
    "  Wait;\n",
    "  END PROCESS;\n",
    "\n",
    "END ARCHITECTURE behaviour;\n",
    "EOF"
   ]
  },
  {
   "cell_type": "markdown",
   "id": "47226b9e",
   "metadata": {},
   "source": [
    "### Simulation"
   ]
  },
  {
   "cell_type": "code",
   "execution_count": null,
   "id": "19d1ddd6",
   "metadata": {},
   "outputs": [],
   "source": [
    "%%bash\n",
    "cd heartbeat\n",
    "rm -f work* *.ghw\n",
    "ghdl -a heartbeat.vhdl\n",
    "ghdl -a heartbeat_tb.vhdl\n",
    "ghdl -r heartbeat_tb --stop-time=5000ns --wave=heartbeat.ghw"
   ]
  },
  {
   "cell_type": "markdown",
   "id": "1fd59636",
   "metadata": {},
   "source": [
    "### Cleanup"
   ]
  },
  {
   "cell_type": "code",
   "execution_count": null,
   "id": "86d76bf1",
   "metadata": {},
   "outputs": [],
   "source": [
    "%%bash\n",
    "cd heartbeat\n",
    "rm -f work* *.ghw"
   ]
  }
 ],
 "metadata": {
  "kernelspec": {
   "display_name": "base",
   "language": "python",
   "name": "python3"
  },
  "language_info": {
   "codemirror_mode": {
    "name": "ipython",
    "version": 3
   },
   "file_extension": ".py",
   "mimetype": "text/x-python",
   "name": "python",
   "nbconvert_exporter": "python",
   "pygments_lexer": "ipython3",
   "version": "3.9.21"
  }
 },
 "nbformat": 4,
 "nbformat_minor": 5
}
