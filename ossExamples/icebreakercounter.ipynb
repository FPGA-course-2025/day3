{
 "cells": [
  {
   "cell_type": "markdown",
   "id": "3deec242",
   "metadata": {},
   "source": [
    "# Adder"
   ]
  },
  {
   "cell_type": "markdown",
   "id": "0043e54e",
   "metadata": {},
   "source": [
    "### Creation\n",
    "This cell creates an VHDL files: one for a full-adder entity and its architecture. The cell uses a bash-here document to write the VHDL \n",
    "code into the files."
   ]
  },
  {
   "cell_type": "code",
   "execution_count": null,
   "id": "0297a799",
   "metadata": {},
   "outputs": [],
   "source": [
    "%%bash\n",
    "\n",
    "cat <<EOF > icebreakercounter/main.v\n",
    "module main(\n",
    "\n",
    "\tinput clk,\n",
    "\tinput btnC,\n",
    "\toutput led1,\n",
    "\toutput led2,\n",
    "\toutput led3,\n",
    "\toutput led4,\n",
    "\toutput led5\n",
    ");\n",
    "\n",
    "\tassign reset = btnC;\n",
    "\twire [4:0] Output;\n",
    "\n",
    "\treg [31:0] divider;\n",
    "\n",
    "\talways @ (posedge clk) begin\n",
    "\t\tdivider <= divider + 1;\n",
    "\tend\n",
    "\n",
    "\talways @ (posedge clk) begin\n",
    "\t\tOutput[4:0] <= divider[27:23];\n",
    "\tend\n",
    "\n",
    "\tassign {led1, led2, led3, led4, led5} = Output[4:0];\n",
    "\n",
    "endmodule\n",
    "EOF"
   ]
  },
  {
   "cell_type": "markdown",
   "id": "9536af89",
   "metadata": {},
   "source": [
    "\n",
    "### Syntesis\n",
    "This cell synthesizes the verilog code using the `yosys` tool. "
   ]
  },
  {
   "cell_type": "code",
   "execution_count": null,
   "id": "19d1ddd6",
   "metadata": {},
   "outputs": [],
   "source": [
    "%%bash\n",
    "cd icebreakercounter\n",
    "yosys -p \"synth_ice40 -top main -json main.json\" main.v"
   ]
  },
  {
   "cell_type": "markdown",
   "id": "33be7d03",
   "metadata": {},
   "source": [
    "### Implementation\n",
    "This cell implements the synthesized design using the `nextpnr` tool. The implementation is done for the `ice40` FPGA family, targeting a specific device. The implementation is done using the `nextpnr-ice40` command, which is a part of the `nextpnr` toolchain."
   ]
  },
  {
   "cell_type": "code",
   "execution_count": null,
   "id": "d77bee8b",
   "metadata": {},
   "outputs": [],
   "source": [
    "%%bash \n",
    "cd icebreakercounter\n",
    "nextpnr-ice40 -r --\"up5k\" --json main.json --package \"sg48\" --asc main.asc --opt-timing --pcf icebreaker.pcf"
   ]
  },
  {
   "cell_type": "markdown",
   "id": "56349978",
   "metadata": {},
   "source": []
  },
  {
   "cell_type": "markdown",
   "id": "a38ec6ec",
   "metadata": {},
   "source": [
    "### Bitstream Generation\n",
    "This cell generates the bitstream file for the implemented design using the `icepack` tool."
   ]
  },
  {
   "cell_type": "code",
   "execution_count": null,
   "id": "80aa0a6f",
   "metadata": {},
   "outputs": [],
   "source": [
    "%%bash\n",
    "cd icebreakercounter\n",
    "icepack main.asc main.bin"
   ]
  },
  {
   "cell_type": "markdown",
   "id": "0fce9de9",
   "metadata": {},
   "source": [
    "### Cleanup"
   ]
  },
  {
   "cell_type": "code",
   "execution_count": 10,
   "id": "f1f010e4",
   "metadata": {},
   "outputs": [],
   "source": [
    "%%bash\n",
    "cd icebreakercounter\n",
    "rm main.json main.asc main.bin"
   ]
  }
 ],
 "metadata": {
  "kernelspec": {
   "display_name": "base",
   "language": "python",
   "name": "python3"
  },
  "language_info": {
   "codemirror_mode": {
    "name": "ipython",
    "version": 3
   },
   "file_extension": ".py",
   "mimetype": "text/x-python",
   "name": "python",
   "nbconvert_exporter": "python",
   "pygments_lexer": "ipython3",
   "version": "3.9.21"
  }
 },
 "nbformat": 4,
 "nbformat_minor": 5
}
